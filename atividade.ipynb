{
  "cells": [
    {
      "cell_type": "markdown",
      "id": "90ca2959",
      "metadata": {
        "id": "90ca2959"
      },
      "source": [
        "# Implementando uma rede simples (MLP) usando o Keras"
      ]
    },
    {
      "cell_type": "markdown",
      "id": "2d6fb0fd",
      "metadata": {
        "id": "2d6fb0fd"
      },
      "source": [
        "## Objetivo"
      ]
    },
    {
      "cell_type": "markdown",
      "id": "3213bcab",
      "metadata": {
        "id": "3213bcab"
      },
      "source": [
        "Este notebook implementa um modelo de rede neural simples (MLP) utilizando o Keras para classificação binária com o dataset Adult/Census Income. O objetivo é prever se uma pessoa tem renda acima de US$50K/ano com base em atributos demográficos e profissionais.\n"
      ]
    },
    {
      "cell_type": "markdown",
      "id": "d8258d31",
      "metadata": {
        "id": "d8258d31"
      },
      "source": [
        "## Sobre o Dataset"
      ]
    },
    {
      "cell_type": "markdown",
      "id": "3fe028c8",
      "metadata": {
        "id": "3fe028c8"
      },
      "source": [
        "### Características principais:\n",
        "- **Nome**: Adult / Census Income (também chamado \"Adult\" ou \"Census Income\")\n",
        "- **Volume**: Aproximadamente 49.000 amostras\n",
        "- **Features**: 14 atributos (numericos e categóricos) como idade, escolaridade, ocupação, sexo, horas trabalhadas por semana, etc.\n",
        "- **Tarefa de classificação**: Predizer se a renda anual (label) de uma pessoa é '>50K' (classe 1) ou '<=50K' (classe 0).\n",
        "- **Desafio**: Dados reais, mistura de variáveis numéricas e categóricas, classes desbalanceadas.\n"
      ]
    },
    {
      "cell_type": "markdown",
      "id": "1aa55e30",
      "metadata": {
        "id": "1aa55e30"
      },
      "source": [
        "## Carregando e Explorando o Dataset"
      ]
    },
    {
      "cell_type": "code",
      "execution_count": null,
      "id": "63e04ba0",
      "metadata": {
        "colab": {
          "base_uri": "https://localhost:8080/"
        },
        "id": "63e04ba0",
        "outputId": "b2db7059-3e8d-4b28-f520-599b50655f54"
      },
      "outputs": [
        {
          "name": "stdout",
          "output_type": "stream",
          "text": [
            "Shape: (32561, 15)\n",
            "age                int64\n",
            "workclass         object\n",
            "fnlwgt             int64\n",
            "education         object\n",
            "education-num      int64\n",
            "marital-status    object\n",
            "occupation        object\n",
            "relationship      object\n",
            "race              object\n",
            "sex               object\n",
            "capital-gain       int64\n",
            "capital-loss       int64\n",
            "hours-per-week     int64\n",
            "native-country    object\n",
            "income            object\n",
            "dtype: object\n",
            "income\n",
            "<=50K    24720\n",
            ">50K      7841\n",
            "Name: count, dtype: int64\n"
          ]
        }
      ],
      "source": [
        "import pandas as pd\n",
        "\n",
        "url = \"https://archive.ics.uci.edu/ml/machine-learning-databases/adult/adult.data\"\n",
        "column_names = [\n",
        "    \"age\", \"workclass\", \"fnlwgt\", \"education\", \"education-num\", \"marital-status\",\n",
        "    \"occupation\", \"relationship\", \"race\", \"sex\", \"capital-gain\",\n",
        "    \"capital-loss\", \"hours-per-week\", \"native-country\", \"income\"\n",
        "]\n",
        "df = pd.read_csv(url, header=None, names=column_names, na_values=' ?')\n",
        "\n",
        "print(\"Shape:\", df.shape)\n",
        "print(df.dtypes)\n",
        "print(df[\"income\"].value_counts())\n"
      ]
    },
    {
      "cell_type": "markdown",
      "id": "ac996747",
      "metadata": {
        "id": "ac996747"
      },
      "source": [
        "#### Análise inicial\n",
        "O dataset possui cerca de 32.561 linhas e 15 colunas (14 features + 1 label).\n",
        "O atributo 'income' é o alvo da classificação, com dois possíveis valores: '>50K' e '<=50K'.\n",
        "O conjunto apresenta features numéricas (age, hours-per-week, capital-gain/loss, etc.) e categóricas (workclass, education, marital-status, occupation, etc.), além de alguns valores nulos.\n"
      ]
    },
    {
      "cell_type": "markdown",
      "id": "832f6030",
      "metadata": {
        "id": "832f6030"
      },
      "source": [
        "## Pré-processamento\n"
      ]
    },
    {
      "cell_type": "code",
      "execution_count": 7,
      "id": "1473085d",
      "metadata": {
        "colab": {
          "base_uri": "https://localhost:8080/"
        },
        "id": "1473085d",
        "outputId": "6b213730-6f17-4180-cea0-73d35c54cf09"
      },
      "outputs": [
        {
          "name": "stdout",
          "output_type": "stream",
          "text": [
            "Train shape: (24129, 104)\n",
            "Test shape: (6033, 104)\n"
          ]
        }
      ],
      "source": [
        "import pandas as pd\n",
        "from sklearn.preprocessing import StandardScaler\n",
        "\n",
        "# Download do dataset\n",
        "url = \"https://archive.ics.uci.edu/ml/machine-learning-databases/adult/adult.data\"\n",
        "column_names = [\n",
        "    \"age\", \"workclass\", \"fnlwgt\", \"education\", \"education-num\", \"marital-status\",\n",
        "    \"occupation\", \"relationship\", \"race\", \"sex\", \"capital-gain\",\n",
        "    \"capital-loss\", \"hours-per-week\", \"native-country\", \"income\"\n",
        "]\n",
        "df = pd.read_csv(url, header=None, names=column_names, na_values=' ?')\n",
        "\n",
        "# Remove linhas com valores ausentes\n",
        "df = df.dropna()\n",
        "\n",
        "# Conversão da coluna target para valores binários\n",
        "df[\"income\"] = df[\"income\"].apply(lambda x: 1 if x.strip() == \">50K\" else 0)\n",
        "\n",
        "# Define as features (X) e label (y)\n",
        "X = df.drop(\"income\", axis=1)\n",
        "y = df[\"income\"]\n",
        "\n",
        "# One-hot encoding para variáveis categóricas\n",
        "X = pd.get_dummies(X)\n",
        "\n",
        "# Normalização das variáveis numéricas\n",
        "num_cols = ['age', 'fnlwgt', 'education-num', 'capital-gain', 'capital-loss', 'hours-per-week']\n",
        "scaler = StandardScaler()\n",
        "X[num_cols] = scaler.fit_transform(X[num_cols])\n",
        "\n",
        "from sklearn.model_selection import train_test_split\n",
        "\n",
        "# Separação em treino e teste (estratificada)\n",
        "X_train, X_test, y_train, y_test = train_test_split(\n",
        "    X, y, test_size=0.20, random_state=42, stratify=y\n",
        ")\n",
        "\n",
        "print(\"Train shape:\", X_train.shape)\n",
        "print(\"Test shape:\", X_test.shape)\n"
      ]
    },
    {
      "cell_type": "code",
      "execution_count": 8,
      "id": "Vx6b8dBLZakV",
      "metadata": {
        "id": "Vx6b8dBLZakV"
      },
      "outputs": [],
      "source": [
        "import numpy as np\n",
        "\n",
        "# Convertendo para float32, requisito para TensorFlow\n",
        "X_train = np.array(X_train).astype(np.float32)\n",
        "X_test = np.array(X_test).astype(np.float32)\n",
        "y_train = np.array(y_train).astype(np.float32)\n",
        "y_test = np.array(y_test).astype(np.float32)\n"
      ]
    },
    {
      "cell_type": "markdown",
      "id": "f2fff851",
      "metadata": {
        "id": "f2fff851"
      },
      "source": [
        "## Construindo o Modelo MLP no Keras"
      ]
    },
    {
      "cell_type": "markdown",
      "id": "ed594953",
      "metadata": {
        "id": "ed594953"
      },
      "source": [
        "**Modelo sequencial simples:**\n",
        "- Uma camada Dense com apenas **1 unidade** (neurônio) e ativação **sigmoid**\n",
        "- Objetivo: saída entre 0 e 1, para classificação binária\n",
        "\n",
        "**Funções:**\n",
        "- **Otimizador Adam**: ajusta os pesos dinamicamente durante o treino.\n",
        "- **Perda binary_crossentropy**: mede a distância entre predições e rótulos reais em problemas binários.\n",
        "- **Métricas accuracy e F1**: acurácia mede a proporção de acertos; F1 pondera precisão e recall, fundamental em problemas com desbalanceamento.\n"
      ]
    },
    {
      "cell_type": "code",
      "execution_count": 11,
      "id": "781133df",
      "metadata": {
        "colab": {
          "base_uri": "https://localhost:8080/",
          "height": 289
        },
        "id": "781133df",
        "outputId": "be86bae9-5295-4823-b526-3afe81aa5645"
      },
      "outputs": [
        {
          "data": {
            "text/html": [
              "<pre style=\"white-space:pre;overflow-x:auto;line-height:normal;font-family:Menlo,'DejaVu Sans Mono',consolas,'Courier New',monospace\"><span style=\"font-weight: bold\">Model: \"sequential_2\"</span>\n",
              "</pre>\n"
            ],
            "text/plain": [
              "\u001b[1mModel: \"sequential_2\"\u001b[0m\n"
            ]
          },
          "metadata": {},
          "output_type": "display_data"
        },
        {
          "data": {
            "text/html": [
              "<pre style=\"white-space:pre;overflow-x:auto;line-height:normal;font-family:Menlo,'DejaVu Sans Mono',consolas,'Courier New',monospace\">┏━━━━━━━━━━━━━━━━━━━━━━━━━━━━━━━━━┳━━━━━━━━━━━━━━━━━━━━━━━━┳━━━━━━━━━━━━━━━┓\n",
              "┃<span style=\"font-weight: bold\"> Layer (type)                    </span>┃<span style=\"font-weight: bold\"> Output Shape           </span>┃<span style=\"font-weight: bold\">       Param # </span>┃\n",
              "┡━━━━━━━━━━━━━━━━━━━━━━━━━━━━━━━━━╇━━━━━━━━━━━━━━━━━━━━━━━━╇━━━━━━━━━━━━━━━┩\n",
              "│ dense_4 (<span style=\"color: #0087ff; text-decoration-color: #0087ff\">Dense</span>)                 │ (<span style=\"color: #00d7ff; text-decoration-color: #00d7ff\">None</span>, <span style=\"color: #00af00; text-decoration-color: #00af00\">32</span>)             │         <span style=\"color: #00af00; text-decoration-color: #00af00\">3,360</span> │\n",
              "├─────────────────────────────────┼────────────────────────┼───────────────┤\n",
              "│ dropout_2 (<span style=\"color: #0087ff; text-decoration-color: #0087ff\">Dropout</span>)             │ (<span style=\"color: #00d7ff; text-decoration-color: #00d7ff\">None</span>, <span style=\"color: #00af00; text-decoration-color: #00af00\">32</span>)             │             <span style=\"color: #00af00; text-decoration-color: #00af00\">0</span> │\n",
              "├─────────────────────────────────┼────────────────────────┼───────────────┤\n",
              "│ dense_5 (<span style=\"color: #0087ff; text-decoration-color: #0087ff\">Dense</span>)                 │ (<span style=\"color: #00d7ff; text-decoration-color: #00d7ff\">None</span>, <span style=\"color: #00af00; text-decoration-color: #00af00\">16</span>)             │           <span style=\"color: #00af00; text-decoration-color: #00af00\">528</span> │\n",
              "├─────────────────────────────────┼────────────────────────┼───────────────┤\n",
              "│ dropout_3 (<span style=\"color: #0087ff; text-decoration-color: #0087ff\">Dropout</span>)             │ (<span style=\"color: #00d7ff; text-decoration-color: #00d7ff\">None</span>, <span style=\"color: #00af00; text-decoration-color: #00af00\">16</span>)             │             <span style=\"color: #00af00; text-decoration-color: #00af00\">0</span> │\n",
              "├─────────────────────────────────┼────────────────────────┼───────────────┤\n",
              "│ dense_6 (<span style=\"color: #0087ff; text-decoration-color: #0087ff\">Dense</span>)                 │ (<span style=\"color: #00d7ff; text-decoration-color: #00d7ff\">None</span>, <span style=\"color: #00af00; text-decoration-color: #00af00\">1</span>)              │            <span style=\"color: #00af00; text-decoration-color: #00af00\">17</span> │\n",
              "└─────────────────────────────────┴────────────────────────┴───────────────┘\n",
              "</pre>\n"
            ],
            "text/plain": [
              "┏━━━━━━━━━━━━━━━━━━━━━━━━━━━━━━━━━┳━━━━━━━━━━━━━━━━━━━━━━━━┳━━━━━━━━━━━━━━━┓\n",
              "┃\u001b[1m \u001b[0m\u001b[1mLayer (type)                   \u001b[0m\u001b[1m \u001b[0m┃\u001b[1m \u001b[0m\u001b[1mOutput Shape          \u001b[0m\u001b[1m \u001b[0m┃\u001b[1m \u001b[0m\u001b[1m      Param #\u001b[0m\u001b[1m \u001b[0m┃\n",
              "┡━━━━━━━━━━━━━━━━━━━━━━━━━━━━━━━━━╇━━━━━━━━━━━━━━━━━━━━━━━━╇━━━━━━━━━━━━━━━┩\n",
              "│ dense_4 (\u001b[38;5;33mDense\u001b[0m)                 │ (\u001b[38;5;45mNone\u001b[0m, \u001b[38;5;34m32\u001b[0m)             │         \u001b[38;5;34m3,360\u001b[0m │\n",
              "├─────────────────────────────────┼────────────────────────┼───────────────┤\n",
              "│ dropout_2 (\u001b[38;5;33mDropout\u001b[0m)             │ (\u001b[38;5;45mNone\u001b[0m, \u001b[38;5;34m32\u001b[0m)             │             \u001b[38;5;34m0\u001b[0m │\n",
              "├─────────────────────────────────┼────────────────────────┼───────────────┤\n",
              "│ dense_5 (\u001b[38;5;33mDense\u001b[0m)                 │ (\u001b[38;5;45mNone\u001b[0m, \u001b[38;5;34m16\u001b[0m)             │           \u001b[38;5;34m528\u001b[0m │\n",
              "├─────────────────────────────────┼────────────────────────┼───────────────┤\n",
              "│ dropout_3 (\u001b[38;5;33mDropout\u001b[0m)             │ (\u001b[38;5;45mNone\u001b[0m, \u001b[38;5;34m16\u001b[0m)             │             \u001b[38;5;34m0\u001b[0m │\n",
              "├─────────────────────────────────┼────────────────────────┼───────────────┤\n",
              "│ dense_6 (\u001b[38;5;33mDense\u001b[0m)                 │ (\u001b[38;5;45mNone\u001b[0m, \u001b[38;5;34m1\u001b[0m)              │            \u001b[38;5;34m17\u001b[0m │\n",
              "└─────────────────────────────────┴────────────────────────┴───────────────┘\n"
            ]
          },
          "metadata": {},
          "output_type": "display_data"
        },
        {
          "data": {
            "text/html": [
              "<pre style=\"white-space:pre;overflow-x:auto;line-height:normal;font-family:Menlo,'DejaVu Sans Mono',consolas,'Courier New',monospace\"><span style=\"font-weight: bold\"> Total params: </span><span style=\"color: #00af00; text-decoration-color: #00af00\">3,905</span> (15.25 KB)\n",
              "</pre>\n"
            ],
            "text/plain": [
              "\u001b[1m Total params: \u001b[0m\u001b[38;5;34m3,905\u001b[0m (15.25 KB)\n"
            ]
          },
          "metadata": {},
          "output_type": "display_data"
        },
        {
          "data": {
            "text/html": [
              "<pre style=\"white-space:pre;overflow-x:auto;line-height:normal;font-family:Menlo,'DejaVu Sans Mono',consolas,'Courier New',monospace\"><span style=\"font-weight: bold\"> Trainable params: </span><span style=\"color: #00af00; text-decoration-color: #00af00\">3,905</span> (15.25 KB)\n",
              "</pre>\n"
            ],
            "text/plain": [
              "\u001b[1m Trainable params: \u001b[0m\u001b[38;5;34m3,905\u001b[0m (15.25 KB)\n"
            ]
          },
          "metadata": {},
          "output_type": "display_data"
        },
        {
          "data": {
            "text/html": [
              "<pre style=\"white-space:pre;overflow-x:auto;line-height:normal;font-family:Menlo,'DejaVu Sans Mono',consolas,'Courier New',monospace\"><span style=\"font-weight: bold\"> Non-trainable params: </span><span style=\"color: #00af00; text-decoration-color: #00af00\">0</span> (0.00 B)\n",
              "</pre>\n"
            ],
            "text/plain": [
              "\u001b[1m Non-trainable params: \u001b[0m\u001b[38;5;34m0\u001b[0m (0.00 B)\n"
            ]
          },
          "metadata": {},
          "output_type": "display_data"
        }
      ],
      "source": [
        "import tensorflow as tf\n",
        "from tensorflow.keras.models import Sequential\n",
        "from tensorflow.keras.layers import Dense, Dropout, Input\n",
        "from tensorflow.keras.optimizers import Adam\n",
        "from sklearn.utils.class_weight import compute_class_weight\n",
        "from keras import backend as K\n",
        "import numpy as np\n",
        "\n",
        "# Calcular pesos para balancear as classes\n",
        "class_weights = compute_class_weight(\n",
        "    class_weight='balanced',\n",
        "    classes=np.unique(y_train),\n",
        "    y=y_train\n",
        ")\n",
        "class_weight_dict = dict(enumerate(class_weights))\n",
        "\n",
        "# Definindo a função personalizada F1 para Keras\n",
        "def f1_score(y_true, y_pred):\n",
        "    y_pred = tf.round(y_pred)\n",
        "    tp = tf.reduce_sum(tf.cast(y_true * y_pred, tf.float32))\n",
        "    fp = tf.reduce_sum(tf.cast((1 - y_true) * y_pred, tf.float32))\n",
        "    fn = tf.reduce_sum(tf.cast(y_true * (1 - y_pred), tf.float32))\n",
        "    precision = tp / (tp + fp + tf.keras.backend.epsilon())\n",
        "    recall = tp / (tp + fn + tf.keras.backend.epsilon())\n",
        "    return 2 * ((precision * recall) / (precision + recall + tf.keras.backend.epsilon()))\n",
        "\n",
        "# Construção do modelo: duas camadas ocultas com ReLU e Dropout para regularização\n",
        "model = Sequential()\n",
        "model.add(Input(shape=(X_train.shape[1],)))\n",
        "model.add(Dense(32, activation='relu'))\n",
        "model.add(Dropout(0.3))\n",
        "model.add(Dense(16, activation='relu'))\n",
        "model.add(Dropout(0.3))\n",
        "model.add(Dense(1, activation='sigmoid'))\n",
        "\n",
        "# Compilação do modelo\n",
        "model.compile(\n",
        "    optimizer=Adam(),\n",
        "    loss='binary_crossentropy',\n",
        "    metrics=['accuracy', f1_score]\n",
        ")\n",
        "\n",
        "\n",
        "model.summary()\n"
      ]
    },
    {
      "cell_type": "markdown",
      "id": "efebc514",
      "metadata": {
        "id": "efebc514"
      },
      "source": [
        "## Treinamento do Modelo"
      ]
    },
    {
      "cell_type": "code",
      "execution_count": 12,
      "id": "73338beb",
      "metadata": {
        "colab": {
          "base_uri": "https://localhost:8080/"
        },
        "id": "73338beb",
        "outputId": "98bdd937-2e47-4bab-9cd3-00a2d44e1956"
      },
      "outputs": [
        {
          "name": "stdout",
          "output_type": "stream",
          "text": [
            "Epoch 1/50\n",
            "\u001b[1m2172/2172\u001b[0m \u001b[32m━━━━━━━━━━━━━━━━━━━━\u001b[0m\u001b[37m\u001b[0m \u001b[1m12s\u001b[0m 4ms/step - accuracy: 0.7299 - f1_score: 0.2938 - loss: 0.4987 - val_accuracy: 0.8139 - val_f1_score: 0.2862 - val_loss: 0.3874\n",
            "Epoch 2/50\n",
            "\u001b[1m2172/2172\u001b[0m \u001b[32m━━━━━━━━━━━━━━━━━━━━\u001b[0m\u001b[37m\u001b[0m \u001b[1m5s\u001b[0m 2ms/step - accuracy: 0.7994 - f1_score: 0.2842 - loss: 0.4046 - val_accuracy: 0.8119 - val_f1_score: 0.2889 - val_loss: 0.3830\n",
            "Epoch 3/50\n",
            "\u001b[1m2172/2172\u001b[0m \u001b[32m━━━━━━━━━━━━━━━━━━━━\u001b[0m\u001b[37m\u001b[0m \u001b[1m6s\u001b[0m 3ms/step - accuracy: 0.8045 - f1_score: 0.2805 - loss: 0.3864 - val_accuracy: 0.8040 - val_f1_score: 0.2922 - val_loss: 0.3871\n",
            "Epoch 4/50\n",
            "\u001b[1m2172/2172\u001b[0m \u001b[32m━━━━━━━━━━━━━━━━━━━━\u001b[0m\u001b[37m\u001b[0m \u001b[1m10s\u001b[0m 3ms/step - accuracy: 0.8007 - f1_score: 0.2888 - loss: 0.3929 - val_accuracy: 0.8168 - val_f1_score: 0.2871 - val_loss: 0.3627\n",
            "Epoch 5/50\n",
            "\u001b[1m2172/2172\u001b[0m \u001b[32m━━━━━━━━━━━━━━━━━━━━\u001b[0m\u001b[37m\u001b[0m \u001b[1m10s\u001b[0m 2ms/step - accuracy: 0.8062 - f1_score: 0.2811 - loss: 0.3826 - val_accuracy: 0.8247 - val_f1_score: 0.2728 - val_loss: 0.3565\n",
            "Epoch 6/50\n",
            "\u001b[1m2172/2172\u001b[0m \u001b[32m━━━━━━━━━━━━━━━━━━━━\u001b[0m\u001b[37m\u001b[0m \u001b[1m10s\u001b[0m 2ms/step - accuracy: 0.8091 - f1_score: 0.2778 - loss: 0.3810 - val_accuracy: 0.8185 - val_f1_score: 0.2823 - val_loss: 0.3637\n",
            "Epoch 7/50\n",
            "\u001b[1m2172/2172\u001b[0m \u001b[32m━━━━━━━━━━━━━━━━━━━━\u001b[0m\u001b[37m\u001b[0m \u001b[1m6s\u001b[0m 3ms/step - accuracy: 0.8125 - f1_score: 0.2781 - loss: 0.3774 - val_accuracy: 0.8023 - val_f1_score: 0.2940 - val_loss: 0.3893\n",
            "Epoch 8/50\n",
            "\u001b[1m2172/2172\u001b[0m \u001b[32m━━━━━━━━━━━━━━━━━━━━\u001b[0m\u001b[37m\u001b[0m \u001b[1m10s\u001b[0m 3ms/step - accuracy: 0.8041 - f1_score: 0.2840 - loss: 0.3721 - val_accuracy: 0.8172 - val_f1_score: 0.2829 - val_loss: 0.3741\n",
            "Epoch 9/50\n",
            "\u001b[1m2172/2172\u001b[0m \u001b[32m━━━━━━━━━━━━━━━━━━━━\u001b[0m\u001b[37m\u001b[0m \u001b[1m10s\u001b[0m 3ms/step - accuracy: 0.8171 - f1_score: 0.2728 - loss: 0.3773 - val_accuracy: 0.8085 - val_f1_score: 0.2895 - val_loss: 0.3775\n",
            "Epoch 10/50\n",
            "\u001b[1m2172/2172\u001b[0m \u001b[32m━━━━━━━━━━━━━━━━━━━━\u001b[0m\u001b[37m\u001b[0m \u001b[1m6s\u001b[0m 3ms/step - accuracy: 0.8116 - f1_score: 0.2782 - loss: 0.3745 - val_accuracy: 0.8106 - val_f1_score: 0.2909 - val_loss: 0.3997\n",
            "Epoch 11/50\n",
            "\u001b[1m2172/2172\u001b[0m \u001b[32m━━━━━━━━━━━━━━━━━━━━\u001b[0m\u001b[37m\u001b[0m \u001b[1m5s\u001b[0m 2ms/step - accuracy: 0.8208 - f1_score: 0.2804 - loss: 0.3607 - val_accuracy: 0.8098 - val_f1_score: 0.2890 - val_loss: 0.3942\n",
            "Epoch 12/50\n",
            "\u001b[1m2172/2172\u001b[0m \u001b[32m━━━━━━━━━━━━━━━━━━━━\u001b[0m\u001b[37m\u001b[0m \u001b[1m7s\u001b[0m 3ms/step - accuracy: 0.8151 - f1_score: 0.2832 - loss: 0.3665 - val_accuracy: 0.8181 - val_f1_score: 0.2843 - val_loss: 0.3773\n",
            "Epoch 13/50\n",
            "\u001b[1m2172/2172\u001b[0m \u001b[32m━━━━━━━━━━━━━━━━━━━━\u001b[0m\u001b[37m\u001b[0m \u001b[1m9s\u001b[0m 2ms/step - accuracy: 0.8159 - f1_score: 0.2864 - loss: 0.3636 - val_accuracy: 0.8156 - val_f1_score: 0.2877 - val_loss: 0.3847\n",
            "Epoch 14/50\n",
            "\u001b[1m2172/2172\u001b[0m \u001b[32m━━━━━━━━━━━━━━━━━━━━\u001b[0m\u001b[37m\u001b[0m \u001b[1m5s\u001b[0m 3ms/step - accuracy: 0.8102 - f1_score: 0.2829 - loss: 0.3738 - val_accuracy: 0.8114 - val_f1_score: 0.2906 - val_loss: 0.3851\n",
            "Epoch 15/50\n",
            "\u001b[1m2172/2172\u001b[0m \u001b[32m━━━━━━━━━━━━━━━━━━━━\u001b[0m\u001b[37m\u001b[0m \u001b[1m5s\u001b[0m 2ms/step - accuracy: 0.8192 - f1_score: 0.2844 - loss: 0.3638 - val_accuracy: 0.8119 - val_f1_score: 0.2895 - val_loss: 0.3742\n",
            "Epoch 16/50\n",
            "\u001b[1m2172/2172\u001b[0m \u001b[32m━━━━━━━━━━━━━━━━━━━━\u001b[0m\u001b[37m\u001b[0m \u001b[1m6s\u001b[0m 3ms/step - accuracy: 0.8104 - f1_score: 0.2822 - loss: 0.3716 - val_accuracy: 0.8160 - val_f1_score: 0.2877 - val_loss: 0.3779\n",
            "Epoch 17/50\n",
            "\u001b[1m2172/2172\u001b[0m \u001b[32m━━━━━━━━━━━━━━━━━━━━\u001b[0m\u001b[37m\u001b[0m \u001b[1m5s\u001b[0m 2ms/step - accuracy: 0.8202 - f1_score: 0.2784 - loss: 0.3600 - val_accuracy: 0.8235 - val_f1_score: 0.2823 - val_loss: 0.3605\n",
            "Epoch 18/50\n",
            "\u001b[1m2172/2172\u001b[0m \u001b[32m━━━━━━━━━━━━━━━━━━━━\u001b[0m\u001b[37m\u001b[0m \u001b[1m6s\u001b[0m 3ms/step - accuracy: 0.8203 - f1_score: 0.2842 - loss: 0.3519 - val_accuracy: 0.8206 - val_f1_score: 0.2866 - val_loss: 0.3765\n",
            "Epoch 19/50\n",
            "\u001b[1m2172/2172\u001b[0m \u001b[32m━━━━━━━━━━━━━━━━━━━━\u001b[0m\u001b[37m\u001b[0m \u001b[1m5s\u001b[0m 2ms/step - accuracy: 0.8207 - f1_score: 0.2766 - loss: 0.3584 - val_accuracy: 0.8243 - val_f1_score: 0.2780 - val_loss: 0.3570\n",
            "Epoch 20/50\n",
            "\u001b[1m2172/2172\u001b[0m \u001b[32m━━━━━━━━━━━━━━━━━━━━\u001b[0m\u001b[37m\u001b[0m \u001b[1m5s\u001b[0m 2ms/step - accuracy: 0.8201 - f1_score: 0.2819 - loss: 0.3592 - val_accuracy: 0.8185 - val_f1_score: 0.2850 - val_loss: 0.3751\n",
            "Epoch 21/50\n",
            "\u001b[1m2172/2172\u001b[0m \u001b[32m━━━━━━━━━━━━━━━━━━━━\u001b[0m\u001b[37m\u001b[0m \u001b[1m10s\u001b[0m 2ms/step - accuracy: 0.8199 - f1_score: 0.2833 - loss: 0.3514 - val_accuracy: 0.8251 - val_f1_score: 0.2796 - val_loss: 0.3641\n",
            "Epoch 22/50\n",
            "\u001b[1m2172/2172\u001b[0m \u001b[32m━━━━━━━━━━━━━━━━━━━━\u001b[0m\u001b[37m\u001b[0m \u001b[1m6s\u001b[0m 3ms/step - accuracy: 0.8201 - f1_score: 0.2848 - loss: 0.3628 - val_accuracy: 0.8197 - val_f1_score: 0.2835 - val_loss: 0.3856\n",
            "Epoch 23/50\n",
            "\u001b[1m2172/2172\u001b[0m \u001b[32m━━━━━━━━━━━━━━━━━━━━\u001b[0m\u001b[37m\u001b[0m \u001b[1m11s\u001b[0m 3ms/step - accuracy: 0.8192 - f1_score: 0.2848 - loss: 0.3529 - val_accuracy: 0.8214 - val_f1_score: 0.2806 - val_loss: 0.3809\n",
            "Epoch 24/50\n",
            "\u001b[1m2172/2172\u001b[0m \u001b[32m━━━━━━━━━━━━━━━━━━━━\u001b[0m\u001b[37m\u001b[0m \u001b[1m5s\u001b[0m 2ms/step - accuracy: 0.8229 - f1_score: 0.2839 - loss: 0.3523 - val_accuracy: 0.8251 - val_f1_score: 0.2773 - val_loss: 0.3703\n",
            "Epoch 25/50\n",
            "\u001b[1m2172/2172\u001b[0m \u001b[32m━━━━━━━━━━━━━━━━━━━━\u001b[0m\u001b[37m\u001b[0m \u001b[1m5s\u001b[0m 2ms/step - accuracy: 0.8239 - f1_score: 0.2762 - loss: 0.3521 - val_accuracy: 0.8181 - val_f1_score: 0.2855 - val_loss: 0.3745\n",
            "Epoch 26/50\n",
            "\u001b[1m2172/2172\u001b[0m \u001b[32m━━━━━━━━━━━━━━━━━━━━\u001b[0m\u001b[37m\u001b[0m \u001b[1m6s\u001b[0m 3ms/step - accuracy: 0.8185 - f1_score: 0.2846 - loss: 0.3511 - val_accuracy: 0.8218 - val_f1_score: 0.2817 - val_loss: 0.3736\n",
            "Epoch 27/50\n",
            "\u001b[1m2172/2172\u001b[0m \u001b[32m━━━━━━━━━━━━━━━━━━━━\u001b[0m\u001b[37m\u001b[0m \u001b[1m10s\u001b[0m 3ms/step - accuracy: 0.8200 - f1_score: 0.2820 - loss: 0.3548 - val_accuracy: 0.8201 - val_f1_score: 0.2826 - val_loss: 0.3723\n",
            "Epoch 28/50\n",
            "\u001b[1m2172/2172\u001b[0m \u001b[32m━━━━━━━━━━━━━━━━━━━━\u001b[0m\u001b[37m\u001b[0m \u001b[1m9s\u001b[0m 2ms/step - accuracy: 0.8208 - f1_score: 0.2782 - loss: 0.3580 - val_accuracy: 0.8156 - val_f1_score: 0.2840 - val_loss: 0.3814\n",
            "Epoch 29/50\n",
            "\u001b[1m2172/2172\u001b[0m \u001b[32m━━━━━━━━━━━━━━━━━━━━\u001b[0m\u001b[37m\u001b[0m \u001b[1m6s\u001b[0m 3ms/step - accuracy: 0.8267 - f1_score: 0.2760 - loss: 0.3490 - val_accuracy: 0.8276 - val_f1_score: 0.2786 - val_loss: 0.3660\n",
            "Epoch 30/50\n",
            "\u001b[1m2172/2172\u001b[0m \u001b[32m━━━━━━━━━━━━━━━━━━━━\u001b[0m\u001b[37m\u001b[0m \u001b[1m5s\u001b[0m 2ms/step - accuracy: 0.8272 - f1_score: 0.2826 - loss: 0.3486 - val_accuracy: 0.8239 - val_f1_score: 0.2829 - val_loss: 0.3756\n",
            "Epoch 31/50\n",
            "\u001b[1m2172/2172\u001b[0m \u001b[32m━━━━━━━━━━━━━━━━━━━━\u001b[0m\u001b[37m\u001b[0m \u001b[1m6s\u001b[0m 3ms/step - accuracy: 0.8227 - f1_score: 0.2788 - loss: 0.3500 - val_accuracy: 0.8210 - val_f1_score: 0.2833 - val_loss: 0.3754\n",
            "Epoch 32/50\n",
            "\u001b[1m2172/2172\u001b[0m \u001b[32m━━━━━━━━━━━━━━━━━━━━\u001b[0m\u001b[37m\u001b[0m \u001b[1m10s\u001b[0m 2ms/step - accuracy: 0.8191 - f1_score: 0.2825 - loss: 0.3537 - val_accuracy: 0.8222 - val_f1_score: 0.2820 - val_loss: 0.3718\n",
            "Epoch 33/50\n",
            "\u001b[1m2172/2172\u001b[0m \u001b[32m━━━━━━━━━━━━━━━━━━━━\u001b[0m\u001b[37m\u001b[0m \u001b[1m5s\u001b[0m 2ms/step - accuracy: 0.8236 - f1_score: 0.2832 - loss: 0.3491 - val_accuracy: 0.8185 - val_f1_score: 0.2777 - val_loss: 0.3631\n",
            "Epoch 34/50\n",
            "\u001b[1m2172/2172\u001b[0m \u001b[32m━━━━━━━━━━━━━━━━━━━━\u001b[0m\u001b[37m\u001b[0m \u001b[1m11s\u001b[0m 3ms/step - accuracy: 0.8215 - f1_score: 0.2794 - loss: 0.3479 - val_accuracy: 0.8181 - val_f1_score: 0.2870 - val_loss: 0.3854\n",
            "Epoch 35/50\n",
            "\u001b[1m2172/2172\u001b[0m \u001b[32m━━━━━━━━━━━━━━━━━━━━\u001b[0m\u001b[37m\u001b[0m \u001b[1m5s\u001b[0m 2ms/step - accuracy: 0.8254 - f1_score: 0.2791 - loss: 0.3477 - val_accuracy: 0.8189 - val_f1_score: 0.2821 - val_loss: 0.3842\n",
            "Epoch 36/50\n",
            "\u001b[1m2172/2172\u001b[0m \u001b[32m━━━━━━━━━━━━━━━━━━━━\u001b[0m\u001b[37m\u001b[0m \u001b[1m6s\u001b[0m 3ms/step - accuracy: 0.8177 - f1_score: 0.2793 - loss: 0.3557 - val_accuracy: 0.8218 - val_f1_score: 0.2846 - val_loss: 0.3784\n",
            "Epoch 37/50\n",
            "\u001b[1m2172/2172\u001b[0m \u001b[32m━━━━━━━━━━━━━━━━━━━━\u001b[0m\u001b[37m\u001b[0m \u001b[1m9s\u001b[0m 2ms/step - accuracy: 0.8224 - f1_score: 0.2814 - loss: 0.3469 - val_accuracy: 0.8201 - val_f1_score: 0.2820 - val_loss: 0.3824\n",
            "Epoch 38/50\n",
            "\u001b[1m2172/2172\u001b[0m \u001b[32m━━━━━━━━━━━━━━━━━━━━\u001b[0m\u001b[37m\u001b[0m \u001b[1m6s\u001b[0m 3ms/step - accuracy: 0.8203 - f1_score: 0.2805 - loss: 0.3491 - val_accuracy: 0.8160 - val_f1_score: 0.2819 - val_loss: 0.3794\n",
            "Epoch 39/50\n",
            "\u001b[1m2172/2172\u001b[0m \u001b[32m━━━━━━━━━━━━━━━━━━━━\u001b[0m\u001b[37m\u001b[0m \u001b[1m5s\u001b[0m 2ms/step - accuracy: 0.8252 - f1_score: 0.2839 - loss: 0.3466 - val_accuracy: 0.8160 - val_f1_score: 0.2856 - val_loss: 0.3778\n",
            "Epoch 40/50\n",
            "\u001b[1m2172/2172\u001b[0m \u001b[32m━━━━━━━━━━━━━━━━━━━━\u001b[0m\u001b[37m\u001b[0m \u001b[1m6s\u001b[0m 3ms/step - accuracy: 0.8172 - f1_score: 0.2834 - loss: 0.3555 - val_accuracy: 0.8131 - val_f1_score: 0.2828 - val_loss: 0.3822\n",
            "Epoch 41/50\n",
            "\u001b[1m2172/2172\u001b[0m \u001b[32m━━━━━━━━━━━━━━━━━━━━\u001b[0m\u001b[37m\u001b[0m \u001b[1m9s\u001b[0m 2ms/step - accuracy: 0.8238 - f1_score: 0.2777 - loss: 0.3471 - val_accuracy: 0.8102 - val_f1_score: 0.2873 - val_loss: 0.3956\n",
            "Epoch 42/50\n",
            "\u001b[1m2172/2172\u001b[0m \u001b[32m━━━━━━━━━━━━━━━━━━━━\u001b[0m\u001b[37m\u001b[0m \u001b[1m10s\u001b[0m 2ms/step - accuracy: 0.8176 - f1_score: 0.2865 - loss: 0.3505 - val_accuracy: 0.8193 - val_f1_score: 0.2837 - val_loss: 0.3747\n",
            "Epoch 43/50\n",
            "\u001b[1m2172/2172\u001b[0m \u001b[32m━━━━━━━━━━━━━━━━━━━━\u001b[0m\u001b[37m\u001b[0m \u001b[1m10s\u001b[0m 2ms/step - accuracy: 0.8214 - f1_score: 0.2874 - loss: 0.3466 - val_accuracy: 0.8206 - val_f1_score: 0.2804 - val_loss: 0.3755\n",
            "Epoch 44/50\n",
            "\u001b[1m2172/2172\u001b[0m \u001b[32m━━━━━━━━━━━━━━━━━━━━\u001b[0m\u001b[37m\u001b[0m \u001b[1m6s\u001b[0m 3ms/step - accuracy: 0.8202 - f1_score: 0.2807 - loss: 0.3520 - val_accuracy: 0.8189 - val_f1_score: 0.2833 - val_loss: 0.3781\n",
            "Epoch 45/50\n",
            "\u001b[1m2172/2172\u001b[0m \u001b[32m━━━━━━━━━━━━━━━━━━━━\u001b[0m\u001b[37m\u001b[0m \u001b[1m9s\u001b[0m 2ms/step - accuracy: 0.8223 - f1_score: 0.2815 - loss: 0.3464 - val_accuracy: 0.8181 - val_f1_score: 0.2776 - val_loss: 0.3736\n",
            "Epoch 46/50\n",
            "\u001b[1m2172/2172\u001b[0m \u001b[32m━━━━━━━━━━━━━━━━━━━━\u001b[0m\u001b[37m\u001b[0m \u001b[1m10s\u001b[0m 2ms/step - accuracy: 0.8262 - f1_score: 0.2749 - loss: 0.3444 - val_accuracy: 0.8235 - val_f1_score: 0.2714 - val_loss: 0.3620\n",
            "Epoch 47/50\n",
            "\u001b[1m2172/2172\u001b[0m \u001b[32m━━━━━━━━━━━━━━━━━━━━\u001b[0m\u001b[37m\u001b[0m \u001b[1m6s\u001b[0m 3ms/step - accuracy: 0.8253 - f1_score: 0.2821 - loss: 0.3476 - val_accuracy: 0.8152 - val_f1_score: 0.2808 - val_loss: 0.3805\n",
            "Epoch 48/50\n",
            "\u001b[1m2172/2172\u001b[0m \u001b[32m━━━━━━━━━━━━━━━━━━━━\u001b[0m\u001b[37m\u001b[0m \u001b[1m5s\u001b[0m 2ms/step - accuracy: 0.8220 - f1_score: 0.2823 - loss: 0.3502 - val_accuracy: 0.8148 - val_f1_score: 0.2854 - val_loss: 0.3813\n",
            "Epoch 49/50\n",
            "\u001b[1m2172/2172\u001b[0m \u001b[32m━━━━━━━━━━━━━━━━━━━━\u001b[0m\u001b[37m\u001b[0m \u001b[1m6s\u001b[0m 3ms/step - accuracy: 0.8205 - f1_score: 0.2842 - loss: 0.3444 - val_accuracy: 0.8210 - val_f1_score: 0.2779 - val_loss: 0.3738\n",
            "Epoch 50/50\n",
            "\u001b[1m2172/2172\u001b[0m \u001b[32m━━━━━━━━━━━━━━━━━━━━\u001b[0m\u001b[37m\u001b[0m \u001b[1m10s\u001b[0m 2ms/step - accuracy: 0.8210 - f1_score: 0.2817 - loss: 0.3457 - val_accuracy: 0.8168 - val_f1_score: 0.2841 - val_loss: 0.3784\n"
          ]
        }
      ],
      "source": [
        "history = model.fit(\n",
        "    X_train,\n",
        "    y_train,\n",
        "    epochs=50,\n",
        "    batch_size=10,\n",
        "    validation_split=0.1,\n",
        "    class_weight=class_weight_dict,\n",
        "    verbose=1\n",
        ")\n"
      ]
    },
    {
      "cell_type": "markdown",
      "id": "9eaf2323",
      "metadata": {
        "id": "9eaf2323"
      },
      "source": [
        "## Avaliação no Teste"
      ]
    },
    {
      "cell_type": "code",
      "execution_count": 13,
      "id": "0c1125c9",
      "metadata": {
        "colab": {
          "base_uri": "https://localhost:8080/"
        },
        "id": "0c1125c9",
        "outputId": "72222958-02f8-4a8e-c4c4-d6419373ba2c"
      },
      "outputs": [
        {
          "name": "stdout",
          "output_type": "stream",
          "text": [
            "\u001b[1m189/189\u001b[0m \u001b[32m━━━━━━━━━━━━━━━━━━━━\u001b[0m\u001b[37m\u001b[0m \u001b[1m0s\u001b[0m 1ms/step\n",
            "Acurácia: 0.8066\n",
            "F1: 0.6828\n"
          ]
        }
      ],
      "source": [
        "# Prevendo as probabilidades\n",
        "y_pred_prob = model.predict(X_test)\n",
        "# Convertendo para rótulos binários (cutoff 0.5)\n",
        "y_pred = (y_pred_prob > 0.5).astype(int)\n",
        "\n",
        "from sklearn.metrics import accuracy_score, f1_score\n",
        "\n",
        "acc = accuracy_score(y_test, y_pred)\n",
        "f1 = f1_score(y_test, y_pred)\n",
        "\n",
        "print(f\"Acurácia: {acc:.4f}\")\n",
        "print(f\"F1: {f1:.4f}\")\n"
      ]
    },
    {
      "cell_type": "markdown",
      "id": "7b0f9b31",
      "metadata": {
        "id": "7b0f9b31"
      },
      "source": [
        "## Interpretação dos Resultados"
      ]
    },
    {
      "cell_type": "markdown",
      "id": "fab842b7",
      "metadata": {
        "id": "fab842b7"
      },
      "source": [
        "## Interpretação dos Resultados\n",
        "\n",
        "### Desempenho obtido\n",
        "O modelo simples deve apresentar uma **acurácia entre 80%-85%** e F1 um pouco menor, por conta do desbalanceamento das classes.\n",
        "\n",
        "- **Acurácia** quantifica a proporção de previsões corretas em relação ao total.\n",
        "- **F1 Score** pondera precisão e recall, importante em cenários onde as classes são desbalanceadas (há mais exemplos de uma classe do que outra).\n",
        "\n",
        "### Discussão e Melhorias\n",
        "Apesar da simplicidade do modelo (apenas 1 neurônio), resultados razoáveis podem ser obtidos graças ao volume e riqueza do dataset. Para melhorar:\n",
        "- Adicionar camadas ocultas e neurônios aumenta a capacidade de modelagem.\n",
        "- Regularização (Dropout, L2), ajuste do balanceamento (oversampling/undersampling), e tratamento avançado dos features podem aprimorar os resultados.\n",
        "- Testes com diferentes funções de ativação, otimização e hiperparâmetros também podem ser investigados.\n",
        "\n",
        "Assim, este notebook serve como base para experimentações com classificadores binários em dados desafiadores e reais."
      ]
    },
    {
      "cell_type": "code",
      "execution_count": null,
      "id": "Ifj5SfkCcYU_",
      "metadata": {
        "id": "Ifj5SfkCcYU_"
      },
      "outputs": [],
      "source": []
    }
  ],
  "metadata": {
    "colab": {
      "provenance": []
    },
    "kernelspec": {
      "display_name": "Python 3",
      "language": "python",
      "name": "python3"
    },
    "language_info": {
      "codemirror_mode": {
        "name": "ipython",
        "version": 3
      },
      "file_extension": ".py",
      "mimetype": "text/x-python",
      "name": "python",
      "nbconvert_exporter": "python",
      "pygments_lexer": "ipython3",
      "version": "3.10.0"
    }
  },
  "nbformat": 4,
  "nbformat_minor": 5
}
